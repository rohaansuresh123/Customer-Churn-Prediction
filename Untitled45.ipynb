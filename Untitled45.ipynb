{
  "nbformat": 4,
  "nbformat_minor": 0,
  "metadata": {
    "colab": {
      "provenance": []
    },
    "kernelspec": {
      "name": "python3",
      "display_name": "Python 3"
    },
    "language_info": {
      "name": "python"
    }
  },
  "cells": [
    {
      "cell_type": "code",
      "source": [
        "import pandas as pd\n",
        "import numpy as np\n",
        "from scipy import stats\n",
        "\n",
        "def generate_customer_data(n_records=5000, seed=42):\n",
        "    np.random.seed(seed)\n",
        "\n",
        "    def create_feature(distribution, **kwargs):\n",
        "        return getattr(np.random, distribution)(size=n_records, **kwargs)\n",
        "\n",
        "    data = {\n",
        "        'ClientNumber': range(1, n_records + 1),\n",
        "        'YearsOld': np.clip(create_feature('normal', loc=40, scale=15), 18, 80).astype(int),\n",
        "        'Sex': create_feature('choice', a=['M', 'F']),\n",
        "        'SubscriptionPlan': create_feature('choice', a=['Monthly', 'Annual', 'Biennial'], p=[0.6, 0.3, 0.1]),\n",
        "        'MonthlyFee': np.round(create_feature('lognormal', mean=4, sigma=0.3), 2),\n",
        "        'MonthsActive': create_feature('randint', low=1, high=73),\n",
        "        'SupportPlan': create_feature('choice', a=['Included', 'None']),\n",
        "        'NetworkType': create_feature('choice', a=['Copper', 'Optical', 'None'], p=[0.3, 0.5, 0.2]),\n",
        "        'DigitalInvoice': create_feature('choice', a=['Yes', 'No']),\n",
        "        'BillingMethod': create_feature('choice', a=['E-payment', 'Mail', 'AutoBank', 'AutoCard'])\n",
        "    }\n",
        "\n",
        "    df = pd.DataFrame(data)\n",
        "\n",
        "    df['TotalBilled'] = (df['MonthlyFee'] * df['MonthsActive']).round(2)\n",
        "\n",
        "    churn_likelihood = (\n",
        "        0.1 +\n",
        "        0.1 * (df['SubscriptionPlan'] == 'Monthly') +\n",
        "        0.05 * (df['NetworkType'] == 'Optical') +\n",
        "        0.05 * (df['SupportPlan'] == 'None') +\n",
        "        0.05 * (df['MonthsActive'] < 12) +\n",
        "        0.05 * (df['MonthlyFee'] > df['MonthlyFee'].quantile(0.75))\n",
        "    )\n",
        "    df['AccountClosed'] = np.random.binomial(n=1, p=churn_likelihood).astype(bool)\n",
        "\n",
        "    df['AverageBillAmount'] = df['TotalBilled'] / df['MonthsActive']\n",
        "    df['ClientValue'] = df['TotalBilled'] * (~df['AccountClosed'])\n",
        "\n",
        "    # Introduce data quality issues\n",
        "    df.loc[np.random.choice(df.index, 100, replace=False), 'SupportPlan'] = np.nan\n",
        "    df.loc[np.random.choice(df.index, 100, replace=False), 'NetworkType'] = np.nan\n",
        "    df.loc[np.random.choice(df.index, 50, replace=False), 'MonthlyFee'] *= 5\n",
        "\n",
        "    return df\n",
        "\n",
        "# Generate and save dataset\n",
        "customer_data = generate_customer_data()\n",
        "customer_data.to_csv('telco_customer_data.csv', index=False)\n",
        "\n",
        "print(customer_data.head())\n",
        "print(f\"\\nDataset dimensions: {customer_data.shape}\")\n",
        "print(f\"\\nAccount closure rate: {customer_data['AccountClosed'].mean():.2%}\")"
      ],
      "metadata": {
        "colab": {
          "base_uri": "https://localhost:8080/"
        },
        "id": "2gYLpEHFEqNs",
        "outputId": "52074851-ef1a-407d-b596-a646f0d56de8"
      },
      "execution_count": 2,
      "outputs": [
        {
          "output_type": "stream",
          "name": "stdout",
          "text": [
            "   ClientNumber  YearsOld Sex SubscriptionPlan  MonthlyFee  MonthsActive  \\\n",
            "0             1        47   F          Monthly       90.71            47   \n",
            "1             2        37   M          Monthly       50.51            69   \n",
            "2             3        49   F         Biennial       55.18            24   \n",
            "3             4        62   F          Monthly       39.41            71   \n",
            "4             5        36   F          Monthly       43.32            34   \n",
            "\n",
            "  SupportPlan NetworkType DigitalInvoice BillingMethod  TotalBilled  \\\n",
            "0        None     Optical            Yes     E-payment      4263.37   \n",
            "1        None        None             No     E-payment      3485.19   \n",
            "2        None      Copper            Yes      AutoBank      1324.32   \n",
            "3    Included        None            Yes      AutoCard      2798.11   \n",
            "4    Included     Optical            Yes     E-payment      1472.88   \n",
            "\n",
            "   AccountClosed  AverageBillAmount  ClientValue  \n",
            "0           True              90.71         0.00  \n",
            "1           True              50.51         0.00  \n",
            "2          False              55.18      1324.32  \n",
            "3          False              39.41      2798.11  \n",
            "4          False              43.32      1472.88  \n",
            "\n",
            "Dataset dimensions: (5000, 14)\n",
            "\n",
            "Account closure rate: 22.86%\n"
          ]
        }
      ]
    },
    {
      "cell_type": "code",
      "source": [],
      "metadata": {
        "id": "aPXjalqBE_oU"
      },
      "execution_count": null,
      "outputs": []
    }
  ]
}